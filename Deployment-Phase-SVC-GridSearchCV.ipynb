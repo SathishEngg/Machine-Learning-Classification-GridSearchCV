{
 "cells": [
  {
   "cell_type": "code",
   "execution_count": 1,
   "id": "4ab3a0b2-b759-486d-8299-bf20aa4e9505",
   "metadata": {},
   "outputs": [],
   "source": [
    "import pickle"
   ]
  },
  {
   "cell_type": "code",
   "execution_count": 2,
   "id": "a47ff17d-91ac-453d-9fcf-8528dd3d9a45",
   "metadata": {},
   "outputs": [],
   "source": [
    "import numpy as np\n",
    "import matplotlib.pyplot as plt\n",
    "import pandas as pd"
   ]
  },
  {
   "cell_type": "code",
   "execution_count": 3,
   "id": "b059958a-61ed-40d0-b123-27adf4e349a6",
   "metadata": {},
   "outputs": [],
   "source": [
    "dataset = pd.read_csv('CKD.csv')"
   ]
  },
  {
   "cell_type": "code",
   "execution_count": 4,
   "id": "314ded4d-67eb-4c03-84b2-1ec069331fea",
   "metadata": {},
   "outputs": [],
   "source": [
    "dataset=pd.get_dummies(dataset, dtype=int, drop_first=True)"
   ]
  },
  {
   "cell_type": "code",
   "execution_count": 5,
   "id": "46fa6058-86c6-41a2-a09b-5bdf61477cbe",
   "metadata": {},
   "outputs": [],
   "source": [
    "independent= dataset [['age', 'bp', 'al', 'su', 'bgr', 'bu', 'sc', 'sod', 'pot', 'hrmo', 'pcv',\n",
    "       'wc', 'rc', 'sg_b', 'sg_c', 'sg_d', 'sg_e', 'rbc_normal', 'pc_normal',\n",
    "       'pcc_present', 'ba_present', 'htn_yes', 'dm_yes', 'cad_yes',\n",
    "       'appet_yes', 'pe_yes', 'ane_yes']]"
   ]
  },
  {
   "cell_type": "code",
   "execution_count": 6,
   "id": "8c3a1c12-a509-42ee-8de3-661fd16fc3d2",
   "metadata": {},
   "outputs": [],
   "source": [
    "dependent=dataset [['classification_yes']]"
   ]
  },
  {
   "cell_type": "code",
   "execution_count": 7,
   "id": "2075c9da-1e1a-453e-9171-7aa3e060bb37",
   "metadata": {},
   "outputs": [],
   "source": [
    "from sklearn.model_selection import train_test_split\n",
    "X_train, X_test, y_train, y_test = train_test_split(independent, dependent, test_size = 1/3, random_state = 0)"
   ]
  },
  {
   "cell_type": "code",
   "execution_count": 8,
   "id": "02d48716-fc8e-4692-9125-caeaf3e11962",
   "metadata": {},
   "outputs": [],
   "source": [
    "from sklearn.preprocessing import StandardScaler\n",
    "sc = StandardScaler()\n",
    "X_train = sc.fit_transform(X_train)\n",
    "X_test = sc.transform(X_test)"
   ]
  },
  {
   "cell_type": "code",
   "execution_count": 9,
   "id": "e07ab95a-e213-42a0-84a6-6bbc3a809e49",
   "metadata": {},
   "outputs": [
    {
     "name": "stderr",
     "output_type": "stream",
     "text": [
      "C:\\ProgramData\\anaconda3\\Lib\\site-packages\\sklearn\\base.py:439: UserWarning: X does not have valid feature names, but StandardScaler was fitted with feature names\n",
      "  warnings.warn(\n"
     ]
    }
   ],
   "source": [
    "preinput=sc.transform([[56,43,45,34,22,56,44,73,26,34,23,43,22,1,0,1,0,1,0,1,0,1,0,1,0,1,0]])"
   ]
  },
  {
   "cell_type": "code",
   "execution_count": 10,
   "id": "f2aa68e4-149b-4279-8a5b-1d221958422c",
   "metadata": {},
   "outputs": [
    {
     "data": {
      "text/plain": [
       "array([[ 0.24180054, -2.58531895, 35.85900466, 33.93681599, -1.6726475 ,\n",
       "        -0.0783322 ,  6.87099322, -6.13147338,  9.62750035,  7.96117207,\n",
       "        -1.96943121, -3.44702237, 21.22464321,  2.02864108, -0.5454915 ,\n",
       "         2.21610269, -0.13840913,  0.38924947, -1.95866374,  2.91547595,\n",
       "        -0.23570226,  1.35269628, -0.73926425,  3.41565026, -1.93649167,\n",
       "         1.91485422, -0.44519456]])"
      ]
     },
     "execution_count": 10,
     "metadata": {},
     "output_type": "execute_result"
    }
   ],
   "source": [
    "preinput"
   ]
  },
  {
   "cell_type": "code",
   "execution_count": 11,
   "id": "1a7039f7-c9ab-4bd2-a4fc-0425538e2843",
   "metadata": {},
   "outputs": [],
   "source": [
    "loaded_model=pickle.load(open(\"finalized_model_SVC_GridSearchCV.sav\", 'rb'))\n",
    "result=loaded_model.predict(preinput)"
   ]
  },
  {
   "cell_type": "code",
   "execution_count": 12,
   "id": "af305787-77d2-41c6-ad25-0993b897ceb8",
   "metadata": {},
   "outputs": [
    {
     "data": {
      "text/plain": [
       "array([1])"
      ]
     },
     "execution_count": 12,
     "metadata": {},
     "output_type": "execute_result"
    }
   ],
   "source": [
    "result"
   ]
  },
  {
   "cell_type": "code",
   "execution_count": 13,
   "id": "7beb6424-11a5-4335-9377-67ffd3a9e8f8",
   "metadata": {},
   "outputs": [
    {
     "name": "stdout",
     "output_type": "stream",
     "text": [
      "Yes\n"
     ]
    }
   ],
   "source": [
    "import numpy as np\n",
    "def inverse_transform_dummies_with_if(array):\n",
    "      result = np.array([0])\n",
    "\n",
    "if np.array_equal(result, np.array([0])):\n",
    "    print(\"No\")\n",
    "else:\n",
    "    print(\"Yes\")"
   ]
  }
 ],
 "metadata": {
  "kernelspec": {
   "display_name": "Python 3 (ipykernel)",
   "language": "python",
   "name": "python3"
  },
  "language_info": {
   "codemirror_mode": {
    "name": "ipython",
    "version": 3
   },
   "file_extension": ".py",
   "mimetype": "text/x-python",
   "name": "python",
   "nbconvert_exporter": "python",
   "pygments_lexer": "ipython3",
   "version": "3.11.7"
  }
 },
 "nbformat": 4,
 "nbformat_minor": 5
}
