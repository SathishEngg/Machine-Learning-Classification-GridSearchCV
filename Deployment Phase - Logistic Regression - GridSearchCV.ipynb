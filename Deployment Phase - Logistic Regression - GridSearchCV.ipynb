{
 "cells": [
  {
   "cell_type": "code",
   "execution_count": 1,
   "id": "1b47231f-b82f-46a7-9c4a-bfdd2d428004",
   "metadata": {},
   "outputs": [],
   "source": [
    "import pickle"
   ]
  },
  {
   "cell_type": "code",
   "execution_count": 2,
   "id": "a259c0e6-1859-4aaa-bd96-da35040e0b7a",
   "metadata": {},
   "outputs": [],
   "source": [
    "import numpy as np\n",
    "import matplotlib.pyplot as plt\n",
    "import pandas as pd"
   ]
  },
  {
   "cell_type": "code",
   "execution_count": 3,
   "id": "40b4f31a-e833-4e99-893b-99b77d71cd41",
   "metadata": {},
   "outputs": [],
   "source": [
    "dataset = pd.read_csv('CKD.csv')"
   ]
  },
  {
   "cell_type": "code",
   "execution_count": 4,
   "id": "341d8b6e-4797-4b96-8066-3c4cb17d7236",
   "metadata": {},
   "outputs": [],
   "source": [
    "dataset=pd.get_dummies(dataset, dtype=int, drop_first=True)"
   ]
  },
  {
   "cell_type": "code",
   "execution_count": 5,
   "id": "4d6a0e5e-35e4-4662-82a1-f90d64fb3222",
   "metadata": {},
   "outputs": [],
   "source": [
    "independent= dataset [['age', 'bp', 'al', 'su', 'bgr', 'bu', 'sc', 'sod', 'pot', 'hrmo', 'pcv',\n",
    "       'wc', 'rc', 'sg_b', 'sg_c', 'sg_d', 'sg_e', 'rbc_normal', 'pc_normal',\n",
    "       'pcc_present', 'ba_present', 'htn_yes', 'dm_yes', 'cad_yes',\n",
    "       'appet_yes', 'pe_yes', 'ane_yes']]"
   ]
  },
  {
   "cell_type": "code",
   "execution_count": 6,
   "id": "32410db4-4994-4b02-bd6c-2844ec0f1f32",
   "metadata": {},
   "outputs": [],
   "source": [
    "dependent=dataset [['classification_yes']]"
   ]
  },
  {
   "cell_type": "code",
   "execution_count": 7,
   "id": "6966fb56-5f50-4482-9b87-e5f9c8d75e18",
   "metadata": {},
   "outputs": [],
   "source": [
    "from sklearn.model_selection import train_test_split\n",
    "X_train, X_test, y_train, y_test = train_test_split(independent, dependent, test_size = 1/3, random_state = 0)"
   ]
  },
  {
   "cell_type": "code",
   "execution_count": 8,
   "id": "ec7cd925-a348-43b7-bae4-79bf6236fb7d",
   "metadata": {},
   "outputs": [],
   "source": [
    "from sklearn.preprocessing import StandardScaler\n",
    "sc = StandardScaler()\n",
    "X_train = sc.fit_transform(X_train)\n",
    "X_test = sc.transform(X_test)"
   ]
  },
  {
   "cell_type": "code",
   "execution_count": 9,
   "id": "21431715-c954-4fd4-8dfa-e131dbb93118",
   "metadata": {},
   "outputs": [
    {
     "name": "stderr",
     "output_type": "stream",
     "text": [
      "C:\\ProgramData\\anaconda3\\Lib\\site-packages\\sklearn\\base.py:439: UserWarning: X does not have valid feature names, but StandardScaler was fitted with feature names\n",
      "  warnings.warn(\n"
     ]
    }
   ],
   "source": [
    "preinput=sc.transform([[56,57,43,55,23,78,53,45,66,45,63,26,57,1,0,1,0,1,0,1,0,1,0,1,0,1,0]])"
   ]
  },
  {
   "cell_type": "code",
   "execution_count": 10,
   "id": "51ce3e11-47af-45b4-bce4-f18e822044d3",
   "metadata": {},
   "outputs": [],
   "source": [
    "loaded_model=pickle.load(open(\"finalized_model_Logistic Regression_GridSearchCV.sav\", 'rb'))\n",
    "result=loaded_model.predict(preinput)"
   ]
  },
  {
   "cell_type": "code",
   "execution_count": 11,
   "id": "b05867b9-4a68-4c32-863c-fd9f759dec11",
   "metadata": {},
   "outputs": [
    {
     "data": {
      "text/plain": [
       "array([0])"
      ]
     },
     "execution_count": 11,
     "metadata": {},
     "output_type": "execute_result"
    }
   ],
   "source": [
    "result"
   ]
  },
  {
   "cell_type": "code",
   "execution_count": 12,
   "id": "eb4ae802-c30d-4d9d-9788-2d8319128a3a",
   "metadata": {},
   "outputs": [
    {
     "name": "stdout",
     "output_type": "stream",
     "text": [
      "No\n"
     ]
    }
   ],
   "source": [
    "import numpy as np\n",
    "def inverse_transform_dummies_with_if(array):\n",
    "      result = np.array([0])\n",
    "\n",
    "if np.array_equal(result, np.array([0])):\n",
    "    print(\"No\")\n",
    "else:\n",
    "    print(\"Yes\")"
   ]
  }
 ],
 "metadata": {
  "kernelspec": {
   "display_name": "Python 3 (ipykernel)",
   "language": "python",
   "name": "python3"
  },
  "language_info": {
   "codemirror_mode": {
    "name": "ipython",
    "version": 3
   },
   "file_extension": ".py",
   "mimetype": "text/x-python",
   "name": "python",
   "nbconvert_exporter": "python",
   "pygments_lexer": "ipython3",
   "version": "3.11.7"
  }
 },
 "nbformat": 4,
 "nbformat_minor": 5
}
